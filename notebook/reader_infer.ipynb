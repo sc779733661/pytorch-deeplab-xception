{
 "metadata": {
  "language_info": {
   "codemirror_mode": {
    "name": "ipython",
    "version": 3
   },
   "file_extension": ".py",
   "mimetype": "text/x-python",
   "name": "python",
   "nbconvert_exporter": "python",
   "pygments_lexer": "ipython3",
   "version": "3.6.10-final"
  },
  "orig_nbformat": 2,
  "kernelspec": {
   "name": "Python 3.6.10 64-bit ('labelme': conda)",
   "display_name": "Python 3.6.10 64-bit ('labelme': conda)",
   "metadata": {
    "interpreter": {
     "hash": "e437ad0f6dd075583261bcd7317acb2375d5ed00d6d5fa81a9ae00a3c8a348d8"
    }
   }
  }
 },
 "nbformat": 4,
 "nbformat_minor": 2,
 "cells": [
  {
   "cell_type": "code",
   "execution_count": 11,
   "metadata": {
    "tags": []
   },
   "outputs": [
    {
     "output_type": "stream",
     "name": "stdout",
     "text": "(694, 685, 3)\n"
    }
   ],
   "source": [
    "# 测试检测指针度数\n",
    "import cv2\n",
    "import os\n",
    "import numpy as np\n",
    "import glob\n",
    "import random\n",
    "\n",
    "\n",
    "if __name__ == '__main__':\n",
    "    src_img = cv2.imread('E:\\\\sc\\\\image_data\\\\meter\\\\meter_seg\\\\images\\\\val\\\\6_mask.png')\n",
    "    print(src_img.shape)\n",
    "    # magic number\n",
    "    kernelsize = 5\n",
    "\n",
    "    # 腐蚀\n",
    "    kernel = np.ones((kernelsize,kernelsize), np.uint8)\n",
    "    erosion_img = cv2.erode(src_img, kernel, iterations=1)\n",
    "\n",
    "    # 展开环形表盘\n",
    "    onec_img = cv2.cvtColor(erosion_img, cv2.COLOR_BGR2GRAY)\n",
    "    ret, thresh = cv2.threshold(onec_img, 20,255,0)\n",
    "    contours, hierarchy = cv2.findContours(thresh, 1, 2)\n",
    "    cv2.drawContours(erosion_img,contours,-1,(0,0,255),3)  \n",
    "    cnt = contours[0]\n",
    "\n",
    "    (x,y),radius = cv2.minEnclosingCircle(cnt)\n",
    "    center = (int(x), int(y))\n",
    "    radius = int(radius)\n",
    "    circle_img = cv2.circle(erosion_img, center, radius, (0,255,2),2)\n",
    "\n",
    "\n",
    "    cv2.imshow('image',erosion_img)\n",
    "    cv2.waitKey(0)"
   ]
  },
  {
   "cell_type": "code",
   "execution_count": null,
   "metadata": {},
   "outputs": [],
   "source": []
  }
 ]
}