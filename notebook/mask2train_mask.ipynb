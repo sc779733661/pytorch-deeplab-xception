{
 "metadata": {
  "language_info": {
   "codemirror_mode": {
    "name": "ipython",
    "version": 3
   },
   "file_extension": ".py",
   "mimetype": "text/x-python",
   "name": "python",
   "nbconvert_exporter": "python",
   "pygments_lexer": "ipython3",
   "version": "3.6.10-final"
  },
  "orig_nbformat": 2,
  "kernelspec": {
   "name": "Python 3.6.10 64-bit ('labelme': conda)",
   "display_name": "Python 3.6.10 64-bit ('labelme': conda)",
   "metadata": {
    "interpreter": {
     "hash": "e437ad0f6dd075583261bcd7317acb2375d5ed00d6d5fa81a9ae00a3c8a348d8"
    }
   }
  }
 },
 "nbformat": 4,
 "nbformat_minor": 2,
 "cells": [
  {
   "cell_type": "code",
   "execution_count": 1,
   "metadata": {},
   "outputs": [],
   "source": [
    "# 批量转换json标注文件to mask\n",
    "import os\n",
    "path = 'C:\\\\Users\\\\hkc\\\\Desktop\\\\meter_img\\\\json' # path为json文件存放的路径 \n",
    "json_file = os.listdir(path) \n",
    "os.system(\"activate labelme\") \n",
    "for file in json_file: \n",
    "    os.system(\"labelme_json_to_dataset.exe %s\"%(path + '/' + file))"
   ]
  },
  {
   "cell_type": "code",
   "execution_count": null,
   "metadata": {},
   "outputs": [],
   "source": [
    "# 批量改文件名\n",
    "import os\n",
    "# path=input('请输入文件路径(结尾加上/)：')\n",
    "# path = 'imgs/'\n",
    "\n",
    "#获取该目录下所有文件，存入列表中\n",
    "fileList=os.listdir(path)\n",
    "\n",
    "n=0\n",
    "for i in fileList:\n",
    "    \n",
    "    #设置旧文件名（就是路径+文件名）\n",
    "    oldname=path+ os.sep + fileList[n]   # os.sep添加系统分隔符\n",
    "    \n",
    "    #设置新文件名\n",
    "    newname=path + os.sep +'ture'+str(n+1)+'.jpg'\n",
    "    \n",
    "    os.rename(oldname,newname)   #用os模块中的rename方法对文件改名\n",
    "    print(oldname,'======>',newname)\n",
    "    \n",
    "    n+=1"
   ]
  },
  {
   "cell_type": "code",
   "execution_count": 10,
   "metadata": {},
   "outputs": [
    {
     "output_type": "stream",
     "name": "stdout",
     "text": [
      "['C:\\\\Users\\\\hkc\\\\Desktop\\\\meter_img\\\\json\\\\meter_img01_json', 'C:\\\\Users\\\\hkc\\\\Desktop\\\\meter_img\\\\json\\\\meter_img03_json', 'C:\\\\Users\\\\hkc\\\\Desktop\\\\meter_img\\\\json\\\\meter_img05_json', 'C:\\\\Users\\\\hkc\\\\Desktop\\\\meter_img\\\\json\\\\meter_img06_json', 'C:\\\\Users\\\\hkc\\\\Desktop\\\\meter_img\\\\json\\\\meter_img07_json', 'C:\\\\Users\\\\hkc\\\\Desktop\\\\meter_img\\\\json\\\\meter_img08_json', 'C:\\\\Users\\\\hkc\\\\Desktop\\\\meter_img\\\\json\\\\meter_img10_json', 'C:\\\\Users\\\\hkc\\\\Desktop\\\\meter_img\\\\json\\\\meter_img11_json', 'C:\\\\Users\\\\hkc\\\\Desktop\\\\meter_img\\\\json\\\\meter_img12_json', 'C:\\\\Users\\\\hkc\\\\Desktop\\\\meter_img\\\\json\\\\meter_img13_json', 'C:\\\\Users\\\\hkc\\\\Desktop\\\\meter_img\\\\json\\\\meter_img14_json', 'C:\\\\Users\\\\hkc\\\\Desktop\\\\meter_img\\\\json\\\\meter_img15_json', 'C:\\\\Users\\\\hkc\\\\Desktop\\\\meter_img\\\\json\\\\meter_img16_json', 'C:\\\\Users\\\\hkc\\\\Desktop\\\\meter_img\\\\json\\\\meter_img17_json', 'C:\\\\Users\\\\hkc\\\\Desktop\\\\meter_img\\\\json\\\\meter_img18_json', 'C:\\\\Users\\\\hkc\\\\Desktop\\\\meter_img\\\\json\\\\meter_img19_json', 'C:\\\\Users\\\\hkc\\\\Desktop\\\\meter_img\\\\json\\\\meter_img21_json', 'C:\\\\Users\\\\hkc\\\\Desktop\\\\meter_img\\\\json\\\\meter_img22_json', 'C:\\\\Users\\\\hkc\\\\Desktop\\\\meter_img\\\\json\\\\meter_img23_json', 'C:\\\\Users\\\\hkc\\\\Desktop\\\\meter_img\\\\json\\\\meter_img24_json', 'C:\\\\Users\\\\hkc\\\\Desktop\\\\meter_img\\\\json\\\\meter_img25_json', 'C:\\\\Users\\\\hkc\\\\Desktop\\\\meter_img\\\\json\\\\meter_img26_json', 'C:\\\\Users\\\\hkc\\\\Desktop\\\\meter_img\\\\json\\\\meter_img27_json', 'C:\\\\Users\\\\hkc\\\\Desktop\\\\meter_img\\\\json\\\\meter_img28_json', 'C:\\\\Users\\\\hkc\\\\Desktop\\\\meter_img\\\\json\\\\meter_img29_json', 'C:\\\\Users\\\\hkc\\\\Desktop\\\\meter_img\\\\json\\\\meter_img31_json', 'C:\\\\Users\\\\hkc\\\\Desktop\\\\meter_img\\\\json\\\\meter_img32_json', 'C:\\\\Users\\\\hkc\\\\Desktop\\\\meter_img\\\\json\\\\meter_img33_json', 'C:\\\\Users\\\\hkc\\\\Desktop\\\\meter_img\\\\json\\\\meter_img34_json', 'C:\\\\Users\\\\hkc\\\\Desktop\\\\meter_img\\\\json\\\\meter_img35_json', 'C:\\\\Users\\\\hkc\\\\Desktop\\\\meter_img\\\\json\\\\meter_img36_json', 'C:\\\\Users\\\\hkc\\\\Desktop\\\\meter_img\\\\json\\\\meter_img37_json', 'C:\\\\Users\\\\hkc\\\\Desktop\\\\meter_img\\\\json\\\\meter_img38_json', 'C:\\\\Users\\\\hkc\\\\Desktop\\\\meter_img\\\\json\\\\meter_img41_json', 'C:\\\\Users\\\\hkc\\\\Desktop\\\\meter_img\\\\json\\\\meter_img42_json']\n"
     ]
    }
   ],
   "source": [
    "# 批量修改img和mask文件名和提取出来\n",
    "import os\n",
    "import glob\n",
    "\n",
    "if __name__ == \"__main__\":\n",
    "    path = 'C:\\\\Users\\\\hkc\\\\Desktop\\\\meter_img\\\\json'\n",
    "    imgs_paths = glob.glob('C:\\\\Users\\\\hkc\\\\Desktop\\\\meter_img\\\\json\\\\*_json')\n",
    "    print(imgs_paths)\n",
    "    save_img_path = 'C:\\Users\\hkc\\Desktop\\meter_img\\train_img'\n",
    "    save_mask_path = 'C:\\Users\\hkc\\Desktop\\meter_img\\train_mask'\n",
    "    for image_path in imgs_paths:\n",
    "\n",
    "        print(image_path)\n"
   ]
  },
  {
   "cell_type": "code",
   "execution_count": 1,
   "metadata": {
    "tags": []
   },
   "outputs": [
    {
     "output_type": "stream",
     "name": "stdout",
     "text": "(509, 502)\n(482, 497)\n(287, 279)\n(529, 552)\n(418, 372)\n(477, 476)\n(330, 331)\n(281, 283)\n(327, 323)\n(384, 398)\n(288, 284)\n(328, 341)\n(756, 777)\n(279, 287)\n(414, 430)\n(347, 345)\n(431, 421)\n(504, 510)\n(471, 466)\n(737, 743)\n(329, 342)\n(541, 545)\n(387, 390)\n(409, 416)\n(336, 330)\n(287, 280)\n(342, 343)\n(323, 324)\n(421, 419)\n(336, 334)\n(327, 338)\n(349, 353)\n(441, 446)\n(343, 342)\n(343, 342)\nend\n"
    }
   ],
   "source": [
    "# 批量修改mask\n",
    "import cv2\n",
    "import os\n",
    "import numpy as np\n",
    "import glob\n",
    "import random\n",
    "# from PIL import Image\n",
    "\n",
    "if __name__ == \"__main__\":\n",
    "    imgs_paths = glob.glob('mask/*.png')\n",
    "    for image_path in imgs_paths:\n",
    "        savepath = image_path.replace('mask', 'train_mask')\n",
    "        label = cv2.imread(image_path)\n",
    "        label = cv2.cvtColor(label, cv2.COLOR_BGR2GRAY)\n",
    "        print(label.shape)\n",
    "        # print(savepath)\n",
    "        indax_point = np.where(label == 38)\n",
    "        label[indax_point] = 1\n",
    "        indax_point = np.where(label == 75)\n",
    "        label[indax_point] = 2\n",
    "        cv2.imwrite(savepath, label)\n",
    "    print('end')\n"
   ]
  },
  {
   "cell_type": "code",
   "execution_count": 19,
   "metadata": {
    "tags": []
   },
   "outputs": [
    {
     "output_type": "stream",
     "name": "stdout",
     "text": "(249, 251)\n(313, 314)\n(209, 218)\n(817, 833)\n(844, 839)\n(768, 768)\n(508, 512)\n(282, 281)\n(483, 479)\n(206, 207)\n(112, 113)\n(274, 275)\n(476, 479)\n(458, 461)\n(247, 240)\n(361, 366)\nend\n"
    }
   ],
   "source": [
    "#测试修改\n",
    "import cv2\n",
    "import os\n",
    "import numpy as np\n",
    "import glob\n",
    "import random\n",
    "\n",
    "if __name__ == \"__main__\":\n",
    "    imgs_paths = glob.glob('train_mask/*.png')\n",
    "    for image_path in imgs_paths:\n",
    "        label = cv2.imread(image_path,0)\n",
    "        print(label.shape)\n",
    "    print('end')\n"
   ]
  },
  {
   "cell_type": "code",
   "execution_count": null,
   "metadata": {},
   "outputs": [],
   "source": [
    "# 批量修复train.txt, val.txt中图像路径 imgpath_repair.py\n",
    "import os\n",
    "\n",
    "def changepath(path,topath):\n",
    "    file = open(path, 'r')\n",
    "    lines = []\n",
    "    for i in file:\n",
    "        lines.append(i)  #逐行将文本存入列表lines中\n",
    "    file.close()\n",
    "\n",
    "    new = []\n",
    "    for line in lines:  # 逐行遍历\n",
    "        line = line.replace('images/train/','')\n",
    "        line = line.replace('images/val/','')\n",
    "        p = 0  # 定义计数指针\n",
    "        for bit in line:  # 对每行进行逐个字遍历\n",
    "            if bit == '.':   # 遇到0时进行处理（我们可以修改成我们想要的定位）\n",
    "                line = line[:p]\n",
    "                break\n",
    "            else:\n",
    "                p = p + 1  # 如果bit不是空格，指针加一\n",
    "        new.append(line)\n",
    "    \n",
    "    file_write = open(topath, 'w')\n",
    "    for var in new:\n",
    "        file_write.writelines(var)\n",
    "        file_write.writelines('\\n')\n",
    "    file_write.close()\n",
    "\n",
    "\n",
    "if __name__ == '__main__':\n",
    "    changepath('E:/sc/image_data/meter/meter_seg_voc/ImageSet/Segmentation/val_yuan.txt'\n",
    "               , 'E:/sc/image_data/meter/meter_seg_voc/ImageSet/Segmentation/val.txt')\n"
   ]
  }
 ]
}